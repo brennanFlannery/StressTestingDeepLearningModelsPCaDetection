{
 "cells": [
  {
   "cell_type": "code",
   "execution_count": 17,
   "metadata": {
    "ExecuteTime": {
     "end_time": "2021-05-18T01:34:58.085737Z",
     "start_time": "2021-05-18T01:34:58.071262Z"
    },
    "lines_to_next_cell": 2
   },
   "outputs": [],
   "source": [
    "#v3.classification\n",
    "#28/11/2018\n",
    "\n",
    "dataname=\"pca_detect_dense_rpF\"\n",
    "\n",
    "patch_size=224 #size of the tiles to extract and save in the database, must be >= to training size\n",
    "stride_size=224 #distance to skip between patches, 1 indicated pixel wise extraction, patch_size would result in non-overlapping tiles\n",
    "mirror_pad_size=0 # number of pixels to pad *after* resize to image with by mirroring (edge's of patches tend not to be analyzed well, so padding allows them to appear more centered in the patch)\n",
    "test_set_size=.2 # what percentage of the dataset should be used as a held out validation/testing set\n",
    "\n",
    "desired_mask_mpp = 16.1 # what we would like to use for finding valid regions of the mask\n",
    "model_mpp = 2 # MPP of patches to be fed into model\n",
    "max_patches_per_image = 5000\n",
    "\n",
    "biopsy = True\n",
    "use_hsv = False\n",
    "remove_white = False\n",
    "\n",
    "positive_class = 'green'\n",
    "if biopsy:\n",
    "    negative_class = 'blue'\n",
    "else:       \n",
    "    negative_class = 'yellow' # prev:yellow\n",
    "\n",
    "\n",
    "class_names=[\"benign\", \"tumor\"]#what classes we expect to have in the data, here we have only 2 classes but we could add additional classes\n",
    "\n",
    "#-----Note---\n",
    "#One should likely make sure that  (nrow+mirror_pad_size) mod patch_size == 0, where nrow is the number of rows after resizing\n",
    "#so that no pixels are lost (any remainer is ignored)\n"
   ]
  },
  {
   "cell_type": "code",
   "execution_count": 18,
   "metadata": {
    "ExecuteTime": {
     "end_time": "2021-05-18T01:34:59.325687Z",
     "start_time": "2021-05-18T01:34:58.088533Z"
    }
   },
   "outputs": [
    {
     "name": "stdout",
     "output_type": "stream",
     "text": [
      "random seed (note down for reproducibility): 5536355547312335575\n"
     ]
    }
   ],
   "source": [
    "import torch\n",
    "import tables\n",
    "\n",
    "import os,sys\n",
    "import glob\n",
    "\n",
    "import PIL\n",
    "import numpy as np\n",
    "\n",
    "import cv2\n",
    "import matplotlib.pyplot as plt\n",
    "\n",
    "from sklearn import model_selection\n",
    "import sklearn.feature_extraction.image\n",
    "import random\n",
    "\n",
    "from WSI_handling import wsi\n",
    "\n",
    "from pathlib import Path\n",
    "from scipy.ndimage import binary_opening\n",
    "seed = random.randrange(sys.maxsize) #get a random seed so that we can reproducibly do the cross validation setup\n",
    "random.seed(seed) # set the seed\n",
    "print(f\"random seed (note down for reproducibility): {seed}\") # 3606024316055270146"
   ]
  },
  {
   "cell_type": "code",
   "execution_count": 19,
   "metadata": {
    "ExecuteTime": {
     "end_time": "2021-05-18T01:34:59.331214Z",
     "start_time": "2021-05-18T01:34:59.327632Z"
    }
   },
   "outputs": [],
   "source": [
    "def check_for_classes(img_fname,positive_class,negative_class):    \n",
    "    if(os.path.exists(Path(img_fname).with_suffix('.xml')) or os.path.exists(Path(img_fname).with_suffix('.json'))):\n",
    "        w = wsi(None, Path(img_fname).with_suffix('.xml'))\n",
    "        points, map_idx, _, _ = w.get_points(colors_to_use=[positive_class,negative_class],custom_colors = [])\n",
    "        return len(np.unique(map_idx))>1\n",
    "    else:\n",
    "        return False\n",
    "def check_for_classes_biop(img_fname,positive_class,negative_class):    \n",
    "    if(os.path.exists(Path(img_fname).with_suffix('.xml')) or os.path.exists(Path(img_fname).with_suffix('.json'))):\n",
    "        w = wsi(None, Path(img_fname).with_suffix('.xml'))\n",
    "        points, map_idx, _, _ = w.get_points(colors_to_use=[positive_class,negative_class],custom_colors = [])\n",
    "        return len(np.unique(map_idx))>1 # used to be 0, changed it to try to improve class imbalance\n",
    "\n",
    "\n"
   ]
  },
  {
   "cell_type": "code",
   "execution_count": 20,
   "metadata": {
    "ExecuteTime": {
     "end_time": "2021-05-18T01:34:59.334998Z",
     "start_time": "2021-05-18T01:34:59.332802Z"
    }
   },
   "outputs": [],
   "source": [
    "img_dtype = tables.UInt8Atom()  # dtype in which the images will be saved, this indicates that images will be saved as unsigned int 8 bit, i.e., [0,255]\n",
    "filenameAtom = tables.StringAtom(itemsize=255) #create an atom to store the filename of the image, just incase we need it later, "
   ]
  },
  {
   "cell_type": "code",
   "execution_count": 21,
   "metadata": {
    "ExecuteTime": {
     "end_time": "2021-05-18T01:35:03.240475Z",
     "start_time": "2021-05-18T01:34:59.336248Z"
    },
    "lines_to_next_cell": 2
   },
   "outputs": [
    {
     "name": "stdout",
     "output_type": "stream",
     "text": [
      "24\n",
      "[20  2 17 18 19]\n"
     ]
    }
   ],
   "source": [
    "seed = 7331385269455319306 # 4622693214520544803\n",
    "# random.seed(seed) # set the seed\n",
    "if biopsy:\n",
    "    files=glob.glob(r'../../../../data/UPenn_Prostate_Histology/UPenn_Prostate_Biopsy/*.svs') # bps\n",
    "    files = [fname for fname in files if check_for_classes_biop(fname,positive_class,negative_class)]\n",
    "else:\n",
    "    files=glob.glob(r'../../../../data/UPenn_Prostate_Histology/Progressor_nonProgressorProstate/histologyImages/UPenn/*.svs') #rps\n",
    "    files = [fname for fname in files if check_for_classes(fname,positive_class,negative_class)]\n",
    "    \n",
    "#create training and validation stages and split the files appropriately between them\n",
    "print(len(files))\n",
    "phases={}\n",
    "phases[\"train\"],phases[\"val\"]=next(iter(model_selection.ShuffleSplit(n_splits=1,test_size=test_set_size, random_state = 5).split(files)))\n",
    "print(phases['val'])"
   ]
  },
  {
   "cell_type": "code",
   "execution_count": 22,
   "metadata": {
    "ExecuteTime": {
     "end_time": "2021-05-18T11:19:25.191153Z",
     "start_time": "2021-05-18T11:00:27.626654Z"
    },
    "scrolled": false
   },
   "outputs": [
    {
     "name": "stdout",
     "output_type": "stream",
     "text": [
      "train\n",
      "../../../../data/UPenn_Prostate_Histology/UPenn_Prostate_Biopsy/51755.svs\n",
      "66\n",
      "60\n",
      "[35  6]\n",
      "../../../../data/UPenn_Prostate_Histology/UPenn_Prostate_Biopsy/52619.svs\n",
      "76\n",
      "74\n",
      "[69 25]\n",
      "../../../../data/UPenn_Prostate_Histology/UPenn_Prostate_Biopsy/52610.svs\n",
      "130\n",
      "107\n",
      "[125  40]\n",
      "../../../../data/UPenn_Prostate_Histology/UPenn_Prostate_Biopsy/51554.svs\n",
      "91\n",
      "81\n",
      "[157  57]\n",
      "../../../../data/UPenn_Prostate_Histology/UPenn_Prostate_Biopsy/51455.svs\n",
      "49\n",
      "48\n",
      "[189  61]\n",
      "../../../../data/UPenn_Prostate_Histology/UPenn_Prostate_Biopsy/51536.svs\n",
      "98\n",
      "97\n",
      "[233  85]\n",
      "../../../../data/UPenn_Prostate_Histology/UPenn_Prostate_Biopsy/51461.svs\n",
      "105\n",
      "101\n",
      "[298  94]\n",
      "../../../../data/UPenn_Prostate_Histology/UPenn_Prostate_Biopsy/51558.svs\n",
      "119\n",
      "118\n",
      "[348 138]\n",
      "../../../../data/UPenn_Prostate_Histology/UPenn_Prostate_Biopsy/51539.svs\n",
      "67\n",
      "66\n",
      "[386 151]\n",
      "../../../../data/UPenn_Prostate_Histology/UPenn_Prostate_Biopsy/51459.svs\n",
      "51\n",
      "46\n",
      "[421 156]\n",
      "../../../../data/UPenn_Prostate_Histology/UPenn_Prostate_Biopsy/51572.svs\n",
      "40\n",
      "40\n",
      "[440 165]\n",
      "../../../../data/UPenn_Prostate_Histology/UPenn_Prostate_Biopsy/51456.svs\n",
      "37\n",
      "36\n",
      "[443 191]\n",
      "../../../../data/UPenn_Prostate_Histology/UPenn_Prostate_Biopsy/51739.svs\n",
      "49\n",
      "44\n",
      "[477 192]\n",
      "../../../../data/UPenn_Prostate_Histology/UPenn_Prostate_Biopsy/52608.svs\n",
      "61\n",
      "49\n",
      "[489 210]\n",
      "../../../../data/UPenn_Prostate_Histology/UPenn_Prostate_Biopsy/51568.svs\n",
      "42\n",
      "41\n",
      "[496 226]\n",
      "../../../../data/UPenn_Prostate_Histology/UPenn_Prostate_Biopsy/52607.svs\n",
      "79\n",
      "75\n",
      "[523 248]\n",
      "../../../../data/UPenn_Prostate_Histology/UPenn_Prostate_Biopsy/52622.svs\n",
      "79\n",
      "72\n",
      "[559 261]\n",
      "../../../../data/UPenn_Prostate_Histology/UPenn_Prostate_Biopsy/52620.svs\n",
      "93\n",
      "91\n",
      "[616 278]\n",
      "../../../../data/UPenn_Prostate_Histology/UPenn_Prostate_Biopsy/52606.svs\n",
      "152\n",
      "149\n",
      "[682 316]\n",
      "val\n",
      "../../../../data/UPenn_Prostate_Histology/UPenn_Prostate_Biopsy/51446.svs\n",
      "142\n",
      "129\n",
      "[92 19]\n",
      "../../../../data/UPenn_Prostate_Histology/UPenn_Prostate_Biopsy/51576.svs\n",
      "66\n",
      "60\n",
      "[132  31]\n",
      "../../../../data/UPenn_Prostate_Histology/UPenn_Prostate_Biopsy/51551.svs\n",
      "148\n",
      "130\n",
      "[198  48]\n",
      "../../../../data/UPenn_Prostate_Histology/UPenn_Prostate_Biopsy/50533.svs\n",
      "47\n",
      "46\n",
      "[219  52]\n",
      "../../../../data/UPenn_Prostate_Histology/UPenn_Prostate_Biopsy/51571.svs\n",
      "161\n",
      "154\n",
      "[279 115]\n"
     ]
    }
   ],
   "source": [
    "startFile = {'train': 0, 'val':0}\n",
    "totalsDict = {'train': np.array([0,0]), 'val': np.array([0,0])}\n",
    "storage={} #holder for future pytables\n",
    "\n",
    "block_shape=np.array((patch_size,patch_size,3)) #block shape specifies what we'll be saving into the pytable array, here we assume that masks are 1d and images are 3d\n",
    "\n",
    "filters=tables.Filters(complevel=6, complib='zlib') #we can also specify filters, such as compression, to improve storage speed\n",
    "\n",
    "\n",
    "# for phase in phases.keys(): #now for each of the phases, we'll loop through the files\n",
    "for phase in ['train', 'val']:\n",
    "    print(phase)\n",
    "    #totals=np.zeros(len(class_names)) # we can to keep counts of all the classes in for in particular training, since we \n",
    "    totals = totalsDict[phase]\n",
    "    hdf5_file = tables.open_file(f\"./{dataname}_{phase}.pytable\", mode='a') #open the respective pytable\n",
    "    storage[\"filenames\"] = hdf5_file.create_earray(hdf5_file.root, 'filenames', filenameAtom, (0,)) #create the array for storage\n",
    "    storage[\"imgs\"] = hdf5_file.create_earray(hdf5_file.root, \"imgs\", img_dtype,  shape=np.append([0],block_shape), chunkshape=np.append([1],block_shape),filters=filters)\n",
    "    storage[\"labels\"]= hdf5_file.create_earray(hdf5_file.root, \"labels\", img_dtype,  shape=[0], chunkshape=[1],filters=filters)\n",
    "    npixels = hdf5_file.create_carray(hdf5_file.root, 'classsizes', tables.Atom.from_dtype(totals.dtype), totals.shape)\n",
    "\n",
    "    for i, filei in enumerate(phases[phase]): #now for each of the files\n",
    "        fname=files[filei] \n",
    "        print(fname)\n",
    "\n",
    "        wsi_img=wsi(fname,Path(fname).with_suffix('.xml'))    \n",
    "\n",
    "        #stride_size_converted = wsi_img.get_coord_at_mpp(stride_size,output_mpp=desired_mask_mpp,input_mpp=wsi_img[\"mpp\"])\n",
    "        stride_size_converted = wsi_img.get_coord_at_mpp(stride_size,output_mpp=desired_mask_mpp,input_mpp=model_mpp) \n",
    "\n",
    "        mask_small = wsi_img.mask_out_annotation(desired_mpp=desired_mask_mpp,colors_to_use=(negative_class,positive_class))            \n",
    "\n",
    "        if biopsy:\n",
    "            small_img = wsi_img.get_wsi(desired_mpp=desired_mask_mpp)\n",
    "            tissue_mask = (np.mean(small_img,axis=2) < 220) * 1 # anything that is not white\n",
    "            tissue_mask = binary_opening(tissue_mask, np.ones((5,5))) * 1\n",
    "            tissue_mask[mask_small > 0] = 2 \n",
    "            mask_small = tissue_mask\n",
    "\n",
    "\n",
    "        mask_small = mask_small[list(range(0,np.shape(mask_small)[0],stride_size_converted)),:]                    \n",
    "        mask_small = mask_small[:,list(range(0,np.shape(mask_small)[1],stride_size_converted))]\n",
    "\n",
    "        [rs,cs]=(mask_small>0).nonzero()\n",
    "        \n",
    "        print(len(rs))\n",
    "        edge = .05\n",
    "        r_keep = [i and j for i,j in zip((rs > (edge * np.shape(mask_small)[0])), rs < (((1-edge) * np.shape(mask_small)[0])))]\n",
    "        c_keep = [i and j for i,j in zip((cs > (edge * np.shape(mask_small)[1])), cs < (((1-edge) * np.shape(mask_small)[1])))]\n",
    "        keep_s = [i and j for i,j in zip(r_keep, c_keep)]\n",
    "\n",
    "        rs = rs[keep_s]\n",
    "        cs = cs[keep_s]\n",
    "        \n",
    "        print(len(rs))\n",
    "        rscs_labels = [mask_small[rscs[0],rscs[1]] for rscs in zip(rs,cs)]\n",
    "\n",
    "        rs = [wsi_img.get_coord_at_mpp(r*stride_size_converted,wsi_img[\"mpps\"][0],desired_mask_mpp) for r in rs]\n",
    "        cs = [wsi_img.get_coord_at_mpp(c*stride_size_converted,wsi_img[\"mpps\"][0],desired_mask_mpp) for c in cs]\n",
    "\n",
    "        goods = np.ones(np.shape(rs)[0])\n",
    "        for k in range(0,np.shape(rs)[0]):\n",
    "\n",
    "            te_tile = wsi_img.get_tile(coords=(cs[k],rs[k]),wh=(3,3),desired_mpp=desired_mask_mpp)\n",
    "\n",
    "            # check if tile has too high a fraction of white pixels, will do a full check later\n",
    "            if(np.all(te_tile>220)):\n",
    "                goods[k] = False             \n",
    "\n",
    "        rs = [r for idx,r in enumerate(rs) if goods[idx]]\n",
    "        cs = [c for idx,c in enumerate(cs) if goods[idx]]\n",
    "        rscs_labels = [rscs_label for idx,rscs_label in enumerate(rscs_labels) if goods[idx]]\n",
    "\n",
    "        rscs = [(cs[k],rs[k]) for k in range(0,np.size(rs)-1)]\n",
    "\n",
    "        n_images = min(max_patches_per_image,len(rscs))\n",
    "        rscs_labels = [rscs_labels[k] for k in np.linspace(0,len(rscs)-1,n_images,dtype='int')]\n",
    "        rscs = [rscs[k] for k in np.linspace(0,len(rscs)-1,n_images,dtype='int')]      \n",
    "        for k,rcpair in enumerate(rscs):\n",
    "            img = wsi_img.get_tile(desired_mpp=model_mpp,coords=(rcpair[0],rcpair[1]),wh=(patch_size,patch_size))\n",
    "            annot = (wsi_img.mask_out_tile(desired_mpp=model_mpp, coords=(rcpair[0],rcpair[1]), wh=(patch_size,patch_size)) > 0) * 1\n",
    "            if((np.sum(np.mean(img,axis=2)>220)/np.size(img[:,:,1]))<0.70): # 0.70\n",
    "#                 if np.var(np.mean(img, axis=2)) < 200:\n",
    "                if np.sum(annot)/(np.square(np.shape(annot)[0])) > .2:\n",
    "                    classid = 1\n",
    "                else:\n",
    "                    classid = 0\n",
    "                # classid = (rscs_labels[k] - 1) # biopsies\n",
    "                white_mask = np.mean(img,axis=2)>220\n",
    "                if remove_white:\n",
    "                    for i in range(3):\n",
    "                        temp = img[:,:,i]\n",
    "                        temp[white_mask] = 0\n",
    "                        img[:,:,i] = temp\n",
    "                if use_hsv:\n",
    "                    hsv = np.uint8(cv2.cvtColor(img, cv2.COLOR_RGB2HSV))\n",
    "                    storage[\"imgs\"].append(np.expand_dims(hsv,0))\n",
    "                else:\n",
    "                    storage[\"imgs\"].append(np.expand_dims(img,0))\n",
    "                storage[\"labels\"].append(np.expand_dims(classid,0)) #add the filename to the storage array\n",
    "                storage[\"filenames\"].append(np.expand_dims(fname,0)) #add the filename to the storage array\n",
    "                totals[classid]+=1\n",
    "        print(totals)\n",
    "    #lastely, we should store the number of pixels\n",
    "    npixels[:]=totals\n",
    "    hdf5_file.close()"
   ]
  },
  {
   "cell_type": "code",
   "execution_count": 23,
   "metadata": {
    "ExecuteTime": {
     "start_time": "2021-05-18T01:34:56.464Z"
    },
    "lines_to_next_cell": 0
   },
   "outputs": [],
   "source": [
    "#useful reference\n",
    "#http://machinelearninguru.com/deep_learning/data_preparation/hdf5/hdf5.html"
   ]
  },
  {
   "cell_type": "code",
   "execution_count": 24,
   "metadata": {
    "lines_to_next_cell": 2
   },
   "outputs": [
    {
     "name": "stdout",
     "output_type": "stream",
     "text": [
      "[0 1 2]\n"
     ]
    }
   ],
   "source": [
    "print(np.unique(mask_small))"
   ]
  }
 ],
 "metadata": {
  "jupytext": {
   "formats": "ipynb,py:light"
  },
  "kernelspec": {
   "display_name": "Python 3 (ipykernel)",
   "language": "python",
   "name": "python3"
  },
  "language_info": {
   "codemirror_mode": {
    "name": "ipython",
    "version": 3
   },
   "file_extension": ".py",
   "mimetype": "text/x-python",
   "name": "python",
   "nbconvert_exporter": "python",
   "pygments_lexer": "ipython3",
   "version": "3.7.0"
  }
 },
 "nbformat": 4,
 "nbformat_minor": 2
}